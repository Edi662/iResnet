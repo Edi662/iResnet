{
 "cells": [
  {
   "cell_type": "code",
   "execution_count": 66,
   "metadata": {},
   "outputs": [],
   "source": [
    "\"\"\"\n",
    "Spectral Normalization from https://arxiv.org/abs/1802.05957\n",
    "\"\"\"\n",
    "import torch\n",
    "from torch.nn.functional import normalize\n",
    "from torch.nn.parameter import Parameter\n",
    "import torch.nn.functional as F\n",
    "import numpy as np\n",
    "\n",
    "class SpectralNorm(object):\n",
    "    # Invariant before and after each forward call:\n",
    "    #   u = normalize(W @ v)\n",
    "    # NB: At initialization, this invariant is not enforced\n",
    "\n",
    "    _version = 2\n",
    "    # At version 2:\n",
    "    #   used Gouk 2018 method.\n",
    "    #   will only normalize if largest singular value > magnitude    \n",
    "\n",
    "    def __init__(self, name='weight', n_power_iterations=1, magnitude=1.0, eps=1e-12):\n",
    "        self.name = name\n",
    "        self.magnitude = magnitude\n",
    "        if n_power_iterations <= 0:\n",
    "            raise ValueError('Expected n_power_iterations to be positive, but '\n",
    "                             'got n_power_iterations={}'.format(n_power_iterations))\n",
    "        self.n_power_iterations = n_power_iterations\n",
    "        self.eps = eps\n",
    "    def l2norm(self, t):\n",
    "        return torch.sqrt((t ** 2).sum())\n",
    "    def compute_weight(self, module, do_power_iteration, num_iter=0):\n",
    "        # NB: If `do_power_iteration` is set, the `u` and `v` vectors are\n",
    "        #     updated in power iteration **in-place**. This is very important\n",
    "        #     because in `DataParallel` forward, the vectors (being buffers) are\n",
    "        #     broadcast from the parallelized module to each module replica,\n",
    "        #     which is a new module object created on the fly. And each replica\n",
    "        #     runs its own spectral norm power iteration. So simply assigning\n",
    "        #     the updated vectors to the module this function runs on will cause\n",
    "        #     the update to be lost forever. And the next time the parallelized\n",
    "        #     module is replicated, the same randomly initialized vectors are\n",
    "        #     broadcast and used!\n",
    "        #\n",
    "        #     Therefore, to make the change propagate back, we rely on two\n",
    "        #     important bahaviors (also enforced via tests):\n",
    "        #       1. `DataParallel` doesn't clone storage if the broadcast tensor\n",
    "        #          is alreay on correct device; and it makes sure that the\n",
    "        #          parallelized module is already on `device[0]`.\n",
    "        #       2. If the out tensor in `out=` kwarg has correct shape, it will\n",
    "        #          just fill in the values.\n",
    "        #     Therefore, since the same power iteration is performed on all\n",
    "        #     devices, simply updating the tensors in-place will make sure that\n",
    "        #     the module replica on `device[0]` will update the _u vector on the\n",
    "        #     parallized module (by shared storage).\n",
    "        #\n",
    "        #    However, after we update `u` and `v` in-place, we need to **clone**\n",
    "        #    them before using them to normalize the weight. This is to support\n",
    "        #    backproping through two forward passes, e.g., the common pattern in\n",
    "        #    GAN training: loss = D(real) - D(fake). Otherwise, engine will\n",
    "        #    complain that variables needed to do backward for the first forward\n",
    "        #    (i.e., the `u` and `v` vectors) are changed in the second forward.\n",
    "        weight = getattr(module, self.name + '_orig')\n",
    "        u = getattr(module, self.name + '_u')\n",
    "        \n",
    "        if do_power_iteration:\n",
    "            with torch.no_grad():\n",
    "                for _ in range(max(self.n_power_iterations, num_iter)):\n",
    "                    u = module.iteration_function(u, weight=weight)\n",
    "                if self.n_power_iterations > 0:\n",
    "                    # See above on why we need to clone\n",
    "                    u = u.clone()\n",
    "            sv = self.l2norm(module.forward_function(u, weight=weight)) / self.l2norm(u)      \n",
    "            sigma = F.relu(sv / self.magnitude - 1.0) + 1.0\n",
    "            module.sigma = sigma\n",
    "            print ('Sigma', sigma.item(), 'SV', sv.item())\n",
    "        else:\n",
    "            sigma = module.sigma\n",
    "        \n",
    "        weight = weight / sigma\n",
    "        return weight\n",
    "\n",
    "    def remove(self, module):\n",
    "        with torch.no_grad():\n",
    "            weight = self.compute_weight(module, do_power_iteration=False)\n",
    "        delattr(module, self.name)\n",
    "        delattr(module, self.name + '_u')\n",
    "        delattr(module, self.name + '_orig')\n",
    "        module.register_parameter(self.name, torch.nn.Parameter(weight.detach()))\n",
    "\n",
    "    def __call__(self, module, inputs, n_power_iterations=0):\n",
    "        setattr(module, self.name, self.compute_weight(module, do_power_iteration=module.training, num_iter=n_power_iterations))\n",
    "\n",
    "    @staticmethod\n",
    "    def apply(module, name, n_power_iterations, magnitude, eps):\n",
    "        for k, hook in module._forward_pre_hooks.items():\n",
    "            if isinstance(hook, SpectralNorm) and hook.name == name:\n",
    "                raise RuntimeError(\"Cannot register two spectral_norm hooks on \"\n",
    "                                   \"the same parameter {}\".format(name))\n",
    "\n",
    "        fn = SpectralNorm(name, n_power_iterations, magnitude, eps)\n",
    "        weight = module._parameters[name]\n",
    "        \n",
    "        functions_dict = {torch.nn.Conv1d : (F.conv1d, F.conv_transpose1d),\n",
    "             torch.nn.Conv2d : (F.conv2d, F.conv_transpose2d),\n",
    "             torch.nn.Conv3d : (F.conv3d, F.conv_transpose3d),\n",
    "             torch.nn.ConvTranspose1d : (F.conv_transpose1d, F.conv1d),\n",
    "             torch.nn.ConvTranspose2d : (F.conv_transpose2d, F.conv2d),\n",
    "             torch.nn.ConvTranspose3d : (F.conv_transpose3d, F.conv3d),            \n",
    "            }\n",
    "        \n",
    "        if isinstance(module, torch.nn.Linear):  \n",
    "            module.forward_function = lambda inp,weight=weight: F.linear(inp, weight)\n",
    "            module.iteration_function = lambda inp,weight=weight: F.linear(F.linear(inp, weight), weight.transpose(1,0))\n",
    "        elif isinstance(module, (torch.nn.ConvTranspose1d,\n",
    "                               torch.nn.ConvTranspose2d,\n",
    "                               torch.nn.ConvTranspose3d,\n",
    "                               torch.nn.Conv1d,\n",
    "                               torch.nn.Conv2d,\n",
    "                               torch.nn.Conv3d,)):\n",
    "            k = weight.shape[2:]\n",
    "            s = module.stride\n",
    "            g = module.groups\n",
    "            d = module.dilation\n",
    "            p = module.padding\n",
    "            functions = functions_dict[module.__class__ ]\n",
    "            module.forward_function = lambda inp,weight=weight,s=s,g=g,d=d,p=p: functions[0](inp, weight, stride=s, padding=p, dilation=d, groups=g)            \n",
    "            module.iteration_function = lambda inp,weight=weight,s=s,g=g,d=d,p=p: functions[1](functions[0](inp, weight, stride=s, padding=p, dilation=d, groups=g), \n",
    "                                                                                             weight, stride=s, padding=p, dilation=d, groups=g)\n",
    "            \n",
    "            \n",
    "        with torch.no_grad():\n",
    "            shape = (1,weight.shape[1])\n",
    "            for i in range(0,len(weight.shape)-2):\n",
    "                shape += (max(k[i]*d[i]-p[i],1),)\n",
    "            u = torch.randn(shape).to(weight.device)\n",
    "            \n",
    "\n",
    "        delattr(module, fn.name)\n",
    "        module.register_parameter(fn.name + \"_orig\", weight)\n",
    "        # We still need to assign weight back as fn.name because all sorts of\n",
    "        # things may assume that it exists, e.g., when initializing weights.\n",
    "        # However, we can't directly assign as it could be an nn.Parameter and\n",
    "        # gets added as a parameter. Instead, we register weight.data as a plain\n",
    "        # attribute.\n",
    "        setattr(module, fn.name, weight.data)\n",
    "        module.register_buffer(fn.name + \"_u\", u)\n",
    "\n",
    "        module.register_forward_pre_hook(fn)\n",
    "\n",
    "        module._register_state_dict_hook(SpectralNormStateDictHook(fn))\n",
    "        module._register_load_state_dict_pre_hook(SpectralNormLoadStateDictPreHook(fn))\n",
    "        return fn\n",
    "\n",
    "\n",
    "# This is a top level class because Py2 pickle doesn't like inner class nor an\n",
    "# instancemethod.\n",
    "class SpectralNormLoadStateDictPreHook(object):\n",
    "    # See docstring of SpectralNorm._version on the changes to spectral_norm.\n",
    "    def __init__(self, fn):\n",
    "        self.fn = fn\n",
    "\n",
    "    # For state_dict with version None, (assuming that it has gone through at\n",
    "    # least one training forward), we have\n",
    "    #\n",
    "    #    u = normalize(W_orig @ v)\n",
    "    #    W = W_orig / sigma, where sigma = u @ W_orig @ v\n",
    "    #\n",
    "    # To compute `v`, we solve `W_orig @ x = u`, and let\n",
    "    #    v = x / (u @ W_orig @ x) * (W / W_orig).\n",
    "    def __call__(self, state_dict, prefix, local_metadata, strict,\n",
    "                 missing_keys, unexpected_keys, error_msgs):\n",
    "        pass\n",
    "\n",
    "\n",
    "# This is a top level class because Py2 pickle doesn't like inner class nor an\n",
    "# instancemethod.\n",
    "class SpectralNormStateDictHook(object):\n",
    "    # See docstring of SpectralNorm._version on the changes to spectral_norm.\n",
    "    def __init__(self, fn):\n",
    "        self.fn = fn\n",
    "\n",
    "    def __call__(self, module, state_dict, prefix, local_metadata):\n",
    "        pass\n",
    "\n",
    "def spectral_norm(module, name='weight', n_power_iterations=1, magnitude=1.0,eps=1e-12):\n",
    "    r\"\"\"Applies spectral normalization to a parameter in the given module.\n",
    "\n",
    "    .. math::\n",
    "         \\mathbf{W} = \\dfrac{\\mathbf{W}}{\\sigma(\\mathbf{W})} \\\\\n",
    "         \\sigma(\\mathbf{W}) = \\max_{\\mathbf{h}: \\mathbf{h} \\ne 0} \\dfrac{\\|\\mathbf{W} \\mathbf{h}\\|_2}{\\|\\mathbf{h}\\|_2}\n",
    "\n",
    "    Spectral normalization stabilizes the training of discriminators (critics)\n",
    "    in Generaive Adversarial Networks (GANs) by rescaling the weight tensor\n",
    "    with spectral norm :math:`\\sigma` of the weight matrix calculated using\n",
    "    power iteration method. If the dimension of the weight tensor is greater\n",
    "    than 2, it is reshaped to 2D in power iteration method to get spectral\n",
    "    norm. This is implemented via a hook that calculates spectral norm and\n",
    "    rescales weight before every :meth:`~Module.forward` call.\n",
    "\n",
    "    See `Spectral Normalization for Generative Adversarial Networks`_ .\n",
    "\n",
    "    .. _`Spectral Normalization for Generative Adversarial Networks`: https://arxiv.org/abs/1802.05957\n",
    "\n",
    "    Args:\n",
    "        module (nn.Module): containing module\n",
    "        name (str, optional): name of weight parameter\n",
    "        n_power_iterations (int, optional): number of power iterations to\n",
    "            calculate spectal norm\n",
    "        eps (float, optional): epsilon for numerical stability in\n",
    "            calculating norms\n",
    "        dim (int, optional): dimension corresponding to number of outputs,\n",
    "            the default is 0, except for modules that are instances of\n",
    "            ConvTranspose1/2/3d, when it is 1\n",
    "\n",
    "    Returns:\n",
    "        The original module with the spectal norm hook\n",
    "\n",
    "    Example::\n",
    "\n",
    "        >>> m = spectral_norm(nn.Linear(20, 40))\n",
    "        Linear (20 -> 40)\n",
    "        >>> m.weight_u.size()\n",
    "        torch.Size([20])\n",
    "\n",
    "    \"\"\"    \n",
    "    SpectralNorm.apply(module, name, n_power_iterations, magnitude, eps)\n",
    "    return module\n",
    "\n",
    "\n",
    "def remove_spectral_norm(module, name='weight'):\n",
    "    r\"\"\"Removes the spectral normalization reparameterization from a module.\n",
    "\n",
    "    Args:\n",
    "        module (nn.Module): containing module\n",
    "        name (str, optional): name of weight parameter\n",
    "\n",
    "    Example:\n",
    "        >>> m = spectral_norm(nn.Linear(40, 10))\n",
    "        >>> remove_spectral_norm(m)\n",
    "    \"\"\"\n",
    "    for k, hook in module._forward_pre_hooks.items():\n",
    "        if isinstance(hook, SpectralNorm) and hook.name == name:\n",
    "            hook.remove(module)\n",
    "            del module._forward_pre_hooks[k]\n",
    "            return module\n",
    "\n",
    "    raise ValueError(\"spectral_norm of '{}' not found in {}\".format(\n",
    "        name, module))"
   ]
  },
  {
   "cell_type": "code",
   "execution_count": 67,
   "metadata": {},
   "outputs": [
    {
     "name": "stdout",
     "output_type": "stream",
     "text": [
      "tensor([[ 0.2245, -0.3802],\n",
      "        [ 0.6396, -0.3808]]) torch.Size([2, 2])\n",
      "[0.8451742  0.18653041]\n",
      "Sigma 1.6903483867645264 SV 0.8451741933822632\n",
      "tensor([[ 0.1328, -0.2249],\n",
      "        [ 0.3784, -0.2253]], grad_fn=<DivBackward0>)\n",
      "[0.5        0.11035028]\n"
     ]
    }
   ],
   "source": [
    "mod = spectral_norm(torch.nn.Linear(2,2), magnitude=0.5, n_power_iterations=5)\n",
    "print (mod.weight, mod.weight.shape)\n",
    "print (np.linalg.svd(mod.weight.squeeze().detach().numpy())[1] )\n",
    "for k,hook in mod._forward_pre_hooks.items():\n",
    "    if isinstance(hook,SpectralNorm):\n",
    "        hook(mod, None)\n",
    "print (mod.weight)\n",
    "print (np.linalg.svd(mod.weight.squeeze().detach().numpy())[1] )"
   ]
  },
  {
   "cell_type": "code",
   "execution_count": 68,
   "metadata": {},
   "outputs": [
    {
     "name": "stdout",
     "output_type": "stream",
     "text": [
      "tensor([[[[ 0.4480]],\n",
      "\n",
      "         [[-0.4706]],\n",
      "\n",
      "         [[ 0.3930]]],\n",
      "\n",
      "\n",
      "        [[[-0.1183]],\n",
      "\n",
      "         [[-0.1703]],\n",
      "\n",
      "         [[ 0.1621]]],\n",
      "\n",
      "\n",
      "        [[[ 0.3787]],\n",
      "\n",
      "         [[-0.5623]],\n",
      "\n",
      "         [[-0.1427]]],\n",
      "\n",
      "\n",
      "        [[[-0.2847]],\n",
      "\n",
      "         [[ 0.2867]],\n",
      "\n",
      "         [[ 0.0048]]]]) torch.Size([4, 3, 1, 1])\n",
      "[1.0353858  0.41194203 0.21789825]\n",
      "Sigma 2.0707716941833496 SV 1.0353858470916748\n",
      "tensor([[[[ 0.2163]],\n",
      "\n",
      "         [[-0.2273]],\n",
      "\n",
      "         [[ 0.1898]]],\n",
      "\n",
      "\n",
      "        [[[-0.0571]],\n",
      "\n",
      "         [[-0.0822]],\n",
      "\n",
      "         [[ 0.0783]]],\n",
      "\n",
      "\n",
      "        [[[ 0.1829]],\n",
      "\n",
      "         [[-0.2715]],\n",
      "\n",
      "         [[-0.0689]]],\n",
      "\n",
      "\n",
      "        [[[-0.1375]],\n",
      "\n",
      "         [[ 0.1384]],\n",
      "\n",
      "         [[ 0.0023]]]], grad_fn=<DivBackward0>)\n",
      "[0.5        0.19893166 0.10522563]\n"
     ]
    }
   ],
   "source": [
    "z1 = 3\n",
    "z2 = 4\n",
    "k = 1\n",
    "p = 0\n",
    "s = 1\n",
    "mod = spectral_norm(torch.nn.Conv2d(z1,z2,kernel_size=k, stride=1,padding=p, bias=False), magnitude=0.5, n_power_iterations=5)\n",
    "print (mod.weight, mod.weight.shape)\n",
    "print (np.linalg.svd(mod.weight.squeeze().detach().numpy())[1] )\n",
    "for k,hook in mod._forward_pre_hooks.items():\n",
    "    if isinstance(hook,SpectralNorm):\n",
    "        hook(mod, None)\n",
    "print (mod.weight)\n",
    "print (np.linalg.svd(mod.weight.squeeze().detach().numpy())[1] )"
   ]
  },
  {
   "cell_type": "code",
   "execution_count": 69,
   "metadata": {},
   "outputs": [
    {
     "name": "stdout",
     "output_type": "stream",
     "text": [
      "Sigma 1.0 SV 0.1573978066444397\n"
     ]
    },
    {
     "data": {
      "text/plain": [
       "[Parameter containing:\n",
       " tensor([[-0.1564, -0.0174]], device='cuda:0', requires_grad=True)]"
      ]
     },
     "execution_count": 69,
     "metadata": {},
     "output_type": "execute_result"
    }
   ],
   "source": [
    "from torch.optim import *\n",
    "import torch\n",
    "import numpy as np\n",
    "a = torch.nn.Linear(2,1, bias=False)\n",
    "with torch.no_grad():\n",
    "    a.weight *= 0.3\n",
    "mod = spectral_norm(a, magnitude=0.5, n_power_iterations=1)\n",
    "mod.cuda()\n",
    "for k,hook in mod._forward_pre_hooks.items():\n",
    "    if isinstance(hook,SpectralNorm):\n",
    "        hook(mod, None)\n",
    "list(mod.parameters())"
   ]
  },
  {
   "cell_type": "code",
   "execution_count": 70,
   "metadata": {},
   "outputs": [
    {
     "data": {
      "text/plain": [
       "OrderedDict([('weight_orig', tensor([[-0.1564, -0.0174]], device='cuda:0')),\n",
       "             ('weight_u', tensor([[-0.1607,  0.9213]], device='cuda:0'))])"
      ]
     },
     "execution_count": 70,
     "metadata": {},
     "output_type": "execute_result"
    }
   ],
   "source": [
    "mod.state_dict()"
   ]
  },
  {
   "cell_type": "code",
   "execution_count": 71,
   "metadata": {},
   "outputs": [
    {
     "data": {
      "text/plain": [
       "tensor([[-0.1564, -0.0174]], device='cuda:0', grad_fn=<DivBackward0>)"
      ]
     },
     "execution_count": 71,
     "metadata": {},
     "output_type": "execute_result"
    }
   ],
   "source": [
    "mod.weight"
   ]
  },
  {
   "cell_type": "code",
   "execution_count": 72,
   "metadata": {
    "scrolled": true
   },
   "outputs": [
    {
     "name": "stdout",
     "output_type": "stream",
     "text": [
      "Sigma 1.0 SV 0.1573978066444397\n",
      "Sigma 1.0 SV 0.16867539286613464\n",
      "Sigma 1.0 SV 0.1803453415632248\n",
      "Sigma 1.0 SV 0.19234998524188995\n",
      "Sigma 1.0 SV 0.20465518534183502\n",
      "Sigma 1.0 SV 0.2172345519065857\n",
      "Sigma 1.0 SV 0.2300589680671692\n",
      "Sigma 1.0 SV 0.2430712878704071\n",
      "Sigma 1.0 SV 0.2562938928604126\n",
      "Sigma 1.0 SV 0.2697223126888275\n",
      "Sigma 1.0 SV 0.2833470404148102\n",
      "Sigma 1.0 SV 0.29715660214424133\n",
      "Sigma 1.0 SV 0.31116312742233276\n",
      "Sigma 1.0 SV 0.3253529369831085\n",
      "Sigma 1.0 SV 0.33974698185920715\n",
      "Sigma 1.0 SV 0.3542664349079132\n",
      "Sigma 1.0 SV 0.3689681887626648\n",
      "Sigma 1.0 SV 0.3838225305080414\n",
      "Sigma 1.0 SV 0.39887383580207825\n",
      "Sigma 1.0 SV 0.4140912890434265\n",
      "Sigma 1.0 SV 0.42951691150665283\n",
      "Sigma 1.0 SV 0.44505244493484497\n",
      "Sigma 1.0 SV 0.4607747197151184\n",
      "Sigma 1.0 SV 0.4766663908958435\n",
      "Sigma 1.0 SV 0.4926689863204956\n",
      "Sigma 1.0175714492797852 SV 0.5087857246398926\n",
      "Sigma 1.046984076499939 SV 0.5234920382499695\n",
      "Sigma 1.0737971067428589 SV 0.5368985533714294\n",
      "Sigma 1.098128080368042 SV 0.549064040184021\n",
      "Sigma 1.1203219890594482 SV 0.5601609945297241\n"
     ]
    }
   ],
   "source": [
    "optim = Adam(mod.parameters(), lr=0.01)\n",
    "b_items = []\n",
    "mod.train()\n",
    "for i in range(0,30):\n",
    "    optim.zero_grad()\n",
    "    b = (mod(torch.randn(512,2).cuda()) **2 ).sum() / 512\n",
    "    b_items.append(b.item())    \n",
    "    (-b).backward()\n",
    "    optim.step()"
   ]
  },
  {
   "cell_type": "code",
   "execution_count": 73,
   "metadata": {},
   "outputs": [
    {
     "data": {
      "text/plain": [
       "[Parameter containing:\n",
       " tensor([[-0.4647, -0.3306]], device='cuda:0', requires_grad=True)]"
      ]
     },
     "execution_count": 73,
     "metadata": {},
     "output_type": "execute_result"
    }
   ],
   "source": [
    "list(mod.parameters())"
   ]
  },
  {
   "cell_type": "code",
   "execution_count": 74,
   "metadata": {},
   "outputs": [
    {
     "data": {
      "text/plain": [
       "OrderedDict([('weight_orig', tensor([[-0.4647, -0.3306]], device='cuda:0')),\n",
       "             ('weight_u', tensor([[-0.1607,  0.9213]], device='cuda:0'))])"
      ]
     },
     "execution_count": 74,
     "metadata": {},
     "output_type": "execute_result"
    }
   ],
   "source": [
    "mod.state_dict()"
   ]
  },
  {
   "cell_type": "code",
   "execution_count": 75,
   "metadata": {},
   "outputs": [
    {
     "data": {
      "text/plain": [
       "tensor([[-0.4084, -0.2885]], device='cuda:0', grad_fn=<DivBackward0>)"
      ]
     },
     "execution_count": 75,
     "metadata": {},
     "output_type": "execute_result"
    }
   ],
   "source": [
    "mod.weight"
   ]
  },
  {
   "cell_type": "code",
   "execution_count": 76,
   "metadata": {},
   "outputs": [
    {
     "data": {
      "text/plain": [
       "[<matplotlib.lines.Line2D at 0x7f23da42e400>]"
      ]
     },
     "execution_count": 76,
     "metadata": {},
     "output_type": "execute_result"
    },
    {
     "data": {
      "image/png": "[encoded data removed]",
      "text/plain": [
       "<Figure size 432x288 with 1 Axes>"
      ]
     },
     "metadata": {
      "needs_background": "light"
     },
     "output_type": "display_data"
    }
   ],
   "source": [
    "%matplotlib inline\n",
    "from matplotlib import pyplot as plt\n",
    "plt.plot(range(len(b_items)), b_items)"
   ]
  },
  {
   "cell_type": "code",
   "execution_count": 77,
   "metadata": {
    "scrolled": true
   },
   "outputs": [
    {
     "name": "stdout",
     "output_type": "stream",
     "text": [
      "Sigma 1.1405935287475586 SV 0.5702967643737793\n",
      "Sigma 1.1456331014633179 SV 0.5728165507316589\n",
      "Sigma 1.1440041065216064 SV 0.5720020532608032\n",
      "Sigma 1.1421042680740356 SV 0.5710521340370178\n",
      "Sigma 1.1411066055297852 SV 0.5705533027648926\n",
      "Sigma 1.1393457651138306 SV 0.5696728825569153\n",
      "Sigma 1.1369109153747559 SV 0.5684554576873779\n",
      "Sigma 1.1341867446899414 SV 0.5670933723449707\n",
      "Sigma 1.1318773031234741 SV 0.5659386515617371\n",
      "Sigma 1.1315183639526367 SV 0.5657591819763184\n",
      "Sigma 1.1311603784561157 SV 0.5655801892280579\n",
      "Sigma 1.1305227279663086 SV 0.5652613639831543\n",
      "Sigma 1.130068063735962 SV 0.565034031867981\n",
      "Sigma 1.1296894550323486 SV 0.5648447275161743\n",
      "Sigma 1.1293842792510986 SV 0.5646921396255493\n",
      "Sigma 1.1287726163864136 SV 0.5643863081932068\n",
      "Sigma 1.1284666061401367 SV 0.5642333030700684\n",
      "Sigma 1.1277714967727661 SV 0.5638857483863831\n",
      "Sigma 1.1270238161087036 SV 0.5635119080543518\n",
      "Sigma 1.1265194416046143 SV 0.5632597208023071\n",
      "Sigma 1.1261667013168335 SV 0.5630833506584167\n",
      "Sigma 1.1258878707885742 SV 0.5629439353942871\n",
      "Sigma 1.1251803636550903 SV 0.5625901818275452\n",
      "Sigma 1.1250762939453125 SV 0.5625381469726562\n",
      "Sigma 1.1256234645843506 SV 0.5628117322921753\n",
      "Sigma 1.1262798309326172 SV 0.5631399154663086\n",
      "Sigma 1.1267377138137817 SV 0.5633688569068909\n",
      "Sigma 1.1274142265319824 SV 0.5637071132659912\n",
      "Sigma 1.1283806562423706 SV 0.5641903281211853\n",
      "Sigma 1.1290826797485352 SV 0.5645413398742676\n",
      "Sigma 1.1297340393066406 SV 0.5648670196533203\n",
      "Sigma 1.1299606561660767 SV 0.5649803280830383\n",
      "Sigma 1.1305125951766968 SV 0.5652562975883484\n",
      "Sigma 1.1312751770019531 SV 0.5656375885009766\n",
      "Sigma 1.1319020986557007 SV 0.5659510493278503\n",
      "Sigma 1.1326647996902466 SV 0.5663323998451233\n",
      "Sigma 1.1334644556045532 SV 0.5667322278022766\n",
      "Sigma 1.1340317726135254 SV 0.5670158863067627\n",
      "Sigma 1.1346070766448975 SV 0.5673035383224487\n",
      "Sigma 1.1351991891860962 SV 0.5675995945930481\n",
      "Sigma 1.1355699300765991 SV 0.5677849650382996\n",
      "Sigma 1.135863184928894 SV 0.567931592464447\n",
      "Sigma 1.1362693309783936 SV 0.5681346654891968\n",
      "Sigma 1.1366931200027466 SV 0.5683465600013733\n",
      "Sigma 1.137052059173584 SV 0.568526029586792\n",
      "Sigma 1.1371182203292847 SV 0.5685591101646423\n",
      "Sigma 1.1372973918914795 SV 0.5686486959457397\n",
      "Sigma 1.137345790863037 SV 0.5686728954315186\n",
      "Sigma 1.1373957395553589 SV 0.5686978697776794\n",
      "Sigma 1.1373752355575562 SV 0.5686876177787781\n",
      "Sigma 1.1371184587478638 SV 0.5685592293739319\n",
      "Sigma 1.1366780996322632 SV 0.5683390498161316\n",
      "Sigma 1.136263370513916 SV 0.568131685256958\n",
      "Sigma 1.1357444524765015 SV 0.5678722262382507\n",
      "Sigma 1.1351393461227417 SV 0.5675696730613708\n",
      "Sigma 1.134934902191162 SV 0.567467451095581\n",
      "Sigma 1.1349611282348633 SV 0.5674805641174316\n",
      "Sigma 1.1348575353622437 SV 0.5674287676811218\n",
      "Sigma 1.1346039772033691 SV 0.5673019886016846\n",
      "Sigma 1.1343485116958618 SV 0.5671742558479309\n",
      "Sigma 1.1341458559036255 SV 0.5670729279518127\n",
      "Sigma 1.134065866470337 SV 0.5670329332351685\n",
      "Sigma 1.1339274644851685 SV 0.5669637322425842\n",
      "Sigma 1.1337575912475586 SV 0.5668787956237793\n",
      "Sigma 1.1336883306503296 SV 0.5668441653251648\n",
      "Sigma 1.1337662935256958 SV 0.5668831467628479\n",
      "Sigma 1.1339201927185059 SV 0.5669600963592529\n",
      "Sigma 1.1337625980377197 SV 0.5668812990188599\n",
      "Sigma 1.133419156074524 SV 0.566709578037262\n",
      "Sigma 1.13314688205719 SV 0.566573441028595\n",
      "Sigma 1.1329768896102905 SV 0.5664884448051453\n",
      "Sigma 1.133180022239685 SV 0.5665900111198425\n",
      "Sigma 1.1335135698318481 SV 0.5667567849159241\n",
      "Sigma 1.1336166858673096 SV 0.5668083429336548\n",
      "Sigma 1.1334599256515503 SV 0.5667299628257751\n",
      "Sigma 1.1331977844238281 SV 0.5665988922119141\n",
      "Sigma 1.1328790187835693 SV 0.5664395093917847\n",
      "Sigma 1.132879614830017 SV 0.5664398074150085\n",
      "Sigma 1.132934808731079 SV 0.5664674043655396\n",
      "Sigma 1.1330690383911133 SV 0.5665345191955566\n",
      "Sigma 1.1331716775894165 SV 0.5665858387947083\n",
      "Sigma 1.1331526041030884 SV 0.5665763020515442\n",
      "Sigma 1.1331161260604858 SV 0.5665580630302429\n",
      "Sigma 1.1331760883331299 SV 0.5665880441665649\n",
      "Sigma 1.133497953414917 SV 0.5667489767074585\n",
      "Sigma 1.1337651014328003 SV 0.5668825507164001\n",
      "Sigma 1.1341156959533691 SV 0.5670578479766846\n",
      "Sigma 1.134473204612732 SV 0.567236602306366\n",
      "Sigma 1.1346534490585327 SV 0.5673267245292664\n",
      "Sigma 1.1347633600234985 SV 0.5673816800117493\n",
      "Sigma 1.1348086595535278 SV 0.5674043297767639\n",
      "Sigma 1.1348748207092285 SV 0.5674374103546143\n",
      "Sigma 1.1349605321884155 SV 0.5674802660942078\n",
      "Sigma 1.1351701021194458 SV 0.5675850510597229\n",
      "Sigma 1.135411262512207 SV 0.5677056312561035\n",
      "Sigma 1.1355654001235962 SV 0.5677827000617981\n",
      "Sigma 1.135733723640442 SV 0.567866861820221\n",
      "Sigma 1.1359087228775024 SV 0.5679543614387512\n",
      "Sigma 1.1361432075500488 SV 0.5680716037750244\n",
      "Sigma 1.136389970779419 SV 0.5681949853897095\n"
     ]
    }
   ],
   "source": [
    "optim = Adam(mod.parameters(), lr=0.01)\n",
    "b_items = []\n",
    "mod.train()\n",
    "for i in range(0,100):\n",
    "    optim.zero_grad()\n",
    "    b = (mod(torch.randn(512,2).cuda()) **2 ).sum() / 512\n",
    "    b_items.append(b.item())    \n",
    "    (b).backward()\n",
    "    optim.step()"
   ]
  },
  {
   "cell_type": "code",
   "execution_count": 78,
   "metadata": {},
   "outputs": [
    {
     "data": {
      "text/plain": [
       "[<matplotlib.lines.Line2D at 0x7f23da391240>]"
      ]
     },
     "execution_count": 78,
     "metadata": {},
     "output_type": "execute_result"
    },
    {
     "data": {
      "image/png": "[encoded data removed]",
      "text/plain": [
       "<Figure size 432x288 with 1 Axes>"
      ]
     },
     "metadata": {
      "needs_background": "light"
     },
     "output_type": "display_data"
    }
   ],
   "source": [
    "%matplotlib inline\n",
    "from matplotlib import pyplot as plt\n",
    "plt.plot(range(len(b_items)), b_items)"
   ]
  },
  {
   "cell_type": "code",
   "execution_count": 36,
   "metadata": {
    "scrolled": false
   },
   "outputs": [
    {
     "name": "stdout",
     "output_type": "stream",
     "text": [
      "Sigma 1.0 SV 0.7136117219924927\n"
     ]
    }
   ],
   "source": [
    "z1 = 3\n",
    "z2 = 3\n",
    "k = 3\n",
    "p = 0\n",
    "s = 1\n",
    "mod = spectral_norm(torch.nn.Conv2d(z1,z2,kernel_size=k, stride=1,padding=p, bias=False), magnitude=1.0, n_power_iterations=5)\n",
    "for k,hook in mod._forward_pre_hooks.items():\n",
    "    if isinstance(hook,SpectralNorm):\n",
    "        hook(mod, None)"
   ]
  },
  {
   "cell_type": "code",
   "execution_count": 39,
   "metadata": {
    "scrolled": true
   },
   "outputs": [
    {
     "name": "stdout",
     "output_type": "stream",
     "text": [
      "Sigma 4.167289733886719 SV 4.167289733886719\n",
      "Sigma 4.225738525390625 SV 4.225738525390625\n",
      "Sigma 4.282241344451904 SV 4.282241344451904\n",
      "Sigma 4.333850860595703 SV 4.333850860595703\n",
      "Sigma 4.386666774749756 SV 4.386666774749756\n",
      "Sigma 4.440177917480469 SV 4.440177917480469\n",
      "Sigma 4.496182441711426 SV 4.496182441711426\n",
      "Sigma 4.552465438842773 SV 4.552465438842773\n",
      "Sigma 4.60589599609375 SV 4.60589599609375\n",
      "Sigma 4.666216850280762 SV 4.666216850280762\n",
      "Sigma 4.734256744384766 SV 4.734256744384766\n",
      "Sigma 4.806213855743408 SV 4.806213855743408\n",
      "Sigma 4.871756076812744 SV 4.871756076812744\n",
      "Sigma 4.93955135345459 SV 4.93955135345459\n",
      "Sigma 5.002038955688477 SV 5.002038955688477\n",
      "Sigma 5.060133934020996 SV 5.060133934020996\n",
      "Sigma 5.127727031707764 SV 5.127727031707764\n",
      "Sigma 5.1913838386535645 SV 5.1913838386535645\n",
      "Sigma 5.2508440017700195 SV 5.2508440017700195\n",
      "Sigma 5.309813976287842 SV 5.309813976287842\n",
      "Sigma 5.363395690917969 SV 5.363395690917969\n",
      "Sigma 5.423892498016357 SV 5.423892498016357\n",
      "Sigma 5.482120990753174 SV 5.482120990753174\n",
      "Sigma 5.540529251098633 SV 5.540529251098633\n",
      "Sigma 5.593700885772705 SV 5.593700885772705\n",
      "Sigma 5.64792537689209 SV 5.64792537689209\n",
      "Sigma 5.696115493774414 SV 5.696115493774414\n",
      "Sigma 5.733116626739502 SV 5.733116626739502\n",
      "Sigma 5.772303581237793 SV 5.772303581237793\n",
      "Sigma 5.8077592849731445 SV 5.8077592849731445\n",
      "Sigma 5.852128505706787 SV 5.852128505706787\n",
      "Sigma 5.898128986358643 SV 5.898128986358643\n",
      "Sigma 5.947325229644775 SV 5.947325229644775\n",
      "Sigma 6.002055644989014 SV 6.002055644989014\n",
      "Sigma 6.0629119873046875 SV 6.0629119873046875\n",
      "Sigma 6.124994277954102 SV 6.124994277954102\n",
      "Sigma 6.1844658851623535 SV 6.1844658851623535\n",
      "Sigma 6.2526631355285645 SV 6.2526631355285645\n",
      "Sigma 6.311947345733643 SV 6.311947345733643\n",
      "Sigma 6.366052627563477 SV 6.366052627563477\n",
      "Sigma 6.42252779006958 SV 6.42252779006958\n",
      "Sigma 6.473340034484863 SV 6.473340034484863\n",
      "Sigma 6.523291110992432 SV 6.523291110992432\n",
      "Sigma 6.581878185272217 SV 6.581878185272217\n",
      "Sigma 6.638846397399902 SV 6.638846397399902\n",
      "Sigma 6.704747200012207 SV 6.704747200012207\n",
      "Sigma 6.774141788482666 SV 6.774141788482666\n",
      "Sigma 6.831645965576172 SV 6.831645965576172\n",
      "Sigma 6.886013984680176 SV 6.886013984680176\n",
      "Sigma 6.937877178192139 SV 6.937877178192139\n",
      "Sigma 6.991026878356934 SV 6.991026878356934\n",
      "Sigma 7.043749809265137 SV 7.043749809265137\n",
      "Sigma 7.101760387420654 SV 7.101760387420654\n",
      "Sigma 7.165261268615723 SV 7.165261268615723\n",
      "Sigma 7.231963157653809 SV 7.231963157653809\n",
      "Sigma 7.294604778289795 SV 7.294604778289795\n",
      "Sigma 7.351027011871338 SV 7.351027011871338\n",
      "Sigma 7.407894134521484 SV 7.407894134521484\n",
      "Sigma 7.464949607849121 SV 7.464949607849121\n",
      "Sigma 7.5356245040893555 SV 7.5356245040893555\n",
      "Sigma 7.604637145996094 SV 7.604637145996094\n",
      "Sigma 7.672046184539795 SV 7.672046184539795\n",
      "Sigma 7.7377777099609375 SV 7.7377777099609375\n",
      "Sigma 7.803127765655518 SV 7.803127765655518\n",
      "Sigma 7.871166229248047 SV 7.871166229248047\n",
      "Sigma 7.933803558349609 SV 7.933803558349609\n",
      "Sigma 7.992937088012695 SV 7.992937088012695\n",
      "Sigma 8.044116020202637 SV 8.044116020202637\n",
      "Sigma 8.091130256652832 SV 8.091130256652832\n",
      "Sigma 8.139985084533691 SV 8.139985084533691\n",
      "Sigma 8.1857328414917 SV 8.1857328414917\n",
      "Sigma 8.239428520202637 SV 8.239428520202637\n",
      "Sigma 8.289485931396484 SV 8.289485931396484\n",
      "Sigma 8.338101387023926 SV 8.338101387023926\n",
      "Sigma 8.382641792297363 SV 8.382641792297363\n",
      "Sigma 8.426695823669434 SV 8.426695823669434\n",
      "Sigma 8.463769912719727 SV 8.463769912719727\n",
      "Sigma 8.500995635986328 SV 8.500995635986328\n",
      "Sigma 8.543251991271973 SV 8.543251991271973\n",
      "Sigma 8.583473205566406 SV 8.583473205566406\n",
      "Sigma 8.619874954223633 SV 8.619874954223633\n",
      "Sigma 8.651610374450684 SV 8.651610374450684\n",
      "Sigma 8.687554359436035 SV 8.687554359436035\n",
      "Sigma 8.725305557250977 SV 8.725305557250977\n",
      "Sigma 8.762333869934082 SV 8.762333869934082\n",
      "Sigma 8.800130844116211 SV 8.800130844116211\n",
      "Sigma 8.834376335144043 SV 8.834376335144043\n",
      "Sigma 8.864703178405762 SV 8.864703178405762\n",
      "Sigma 8.89933967590332 SV 8.89933967590332\n",
      "Sigma 8.936864852905273 SV 8.936864852905273\n",
      "Sigma 8.974703788757324 SV 8.974703788757324\n",
      "Sigma 9.010113716125488 SV 9.010113716125488\n",
      "Sigma 9.04259967803955 SV 9.04259967803955\n",
      "Sigma 9.077865600585938 SV 9.077865600585938\n",
      "Sigma 9.116965293884277 SV 9.116965293884277\n",
      "Sigma 9.162073135375977 SV 9.162073135375977\n",
      "Sigma 9.205256462097168 SV 9.205256462097168\n",
      "Sigma 9.2483549118042 SV 9.2483549118042\n",
      "Sigma 9.295477867126465 SV 9.295477867126465\n",
      "Sigma 9.344347953796387 SV 9.344347953796387\n"
     ]
    }
   ],
   "source": [
    "optim = Adam(mod.parameters(), lr=0.01)\n",
    "b_items = []\n",
    "mod.train()\n",
    "for i in range(0,100):\n",
    "    optim.zero_grad()\n",
    "    b = (mod(torch.randn(512,3,3,3)) **2 ).sum() / 512\n",
    "    b_items.append(b.item())    \n",
    "    (-b).backward()\n",
    "    optim.step()"
   ]
  },
  {
   "cell_type": "code",
   "execution_count": 40,
   "metadata": {},
   "outputs": [
    {
     "data": {
      "text/plain": [
       "[<matplotlib.lines.Line2D at 0x7f23da6147b8>]"
      ]
     },
     "execution_count": 40,
     "metadata": {},
     "output_type": "execute_result"
    },
    {
     "data": {
      "image/png": "[encoded data removed]",
      "text/plain": [
       "<Figure size 432x288 with 1 Axes>"
      ]
     },
     "metadata": {
      "needs_background": "light"
     },
     "output_type": "display_data"
    }
   ],
   "source": [
    "%matplotlib inline\n",
    "from matplotlib import pyplot as plt\n",
    "plt.plot(range(len(b_items)), b_items)"
   ]
  },
  {
   "cell_type": "code",
   "execution_count": 161,
   "metadata": {},
   "outputs": [
    {
     "name": "stdout",
     "output_type": "stream",
     "text": [
      "torch.Size([4, 3, 1, 1])\n",
      "torch.Size([4, 3, 1, 1])\n"
     ]
    }
   ],
   "source": [
    "inva = torch.nn.ConvTranspose2d(z2,z1,kernel_size=k,stride=s,padding=p, bias=False)\n",
    "print (a.weight.shape)\n",
    "inva.weight = torch.nn.Parameter(a.weight.detach().clone())\n",
    "print (inva.weight.shape)"
   ]
  },
  {
   "cell_type": "code",
   "execution_count": 155,
   "metadata": {},
   "outputs": [],
   "source": [
    "def l2norm(t):\n",
    "    return torch.sqrt((t ** 2).sum())"
   ]
  },
  {
   "cell_type": "code",
   "execution_count": 156,
   "metadata": {},
   "outputs": [],
   "source": [
    "inp = torch.randn(1,z1,max(k*s-p,1),max(k*s-p,1))"
   ]
  },
  {
   "cell_type": "code",
   "execution_count": 157,
   "metadata": {},
   "outputs": [],
   "source": [
    "for i in range(0,5):\n",
    "    inp = inva(a(inp))"
   ]
  },
  {
   "cell_type": "code",
   "execution_count": 158,
   "metadata": {},
   "outputs": [
    {
     "data": {
      "text/plain": [
       "tensor(1.0071, grad_fn=<DivBackward0>)"
      ]
     },
     "execution_count": 158,
     "metadata": {},
     "output_type": "execute_result"
    }
   ],
   "source": [
    "l2norm(a(inp)) / l2norm(inp)"
   ]
  },
  {
   "cell_type": "code",
   "execution_count": 159,
   "metadata": {},
   "outputs": [
    {
     "data": {
      "text/plain": [
       "tensor(1.0071, grad_fn=<DivBackward0>)"
      ]
     },
     "execution_count": 159,
     "metadata": {},
     "output_type": "execute_result"
    }
   ],
   "source": [
    "l2norm(a(inp)) / l2norm(inp)"
   ]
  },
  {
   "cell_type": "code",
   "execution_count": 160,
   "metadata": {},
   "outputs": [
    {
     "data": {
      "text/plain": [
       "array([1.008397  , 0.78237176, 0.37348843], dtype=float32)"
      ]
     },
     "execution_count": 160,
     "metadata": {},
     "output_type": "execute_result"
    }
   ],
   "source": [
    "np.linalg.svd(a.weight.squeeze().detach().numpy())[1] "
   ]
  },
  {
   "cell_type": "code",
   "execution_count": null,
   "metadata": {},
   "outputs": [],
   "source": []
  },
  {
   "cell_type": "code",
   "execution_count": null,
   "metadata": {},
   "outputs": [],
   "source": []
  }
 ],
 "metadata": {
  "kernelspec": {
   "display_name": "Python 3",
   "language": "python",
   "name": "python3"
  },
  "language_info": {
   "codemirror_mode": {
    "name": "ipython",
    "version": 3
   },
   "file_extension": ".py",
   "mimetype": "text/x-python",
   "name": "python",
   "nbconvert_exporter": "python",
   "pygments_lexer": "ipython3",
   "version": "3.6.8"
  }
 },
 "nbformat": 4,
 "nbformat_minor": 2
}
